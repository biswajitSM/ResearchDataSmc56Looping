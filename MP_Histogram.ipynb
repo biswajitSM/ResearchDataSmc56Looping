{
 "cells": [
  {
   "cell_type": "code",
   "execution_count": 1,
   "id": "79f2e23a",
   "metadata": {},
   "outputs": [],
   "source": [
    "import numpy as np\n",
    "import matplotlib\n",
    "import matplotlib.pyplot as plt\n",
    "import matplotlib.pylab as pylab\n",
    "import pandas as pd\n",
    "from scipy.optimize import curve_fit"
   ]
  },
  {
   "cell_type": "code",
   "execution_count": 2,
   "id": "aed2c704",
   "metadata": {},
   "outputs": [],
   "source": [
    "# Folder for exporting plots\n",
    "data_path = r'C:\\Users\\YourDirectory'\n",
    "\n",
    "# csv raw data after calibration\n",
    "# Fill-in: Paste file location\n",
    "num_dataset = 3\n",
    "data1 = pd.read_csv (r'C:\\Users\\YourFile.csv')"
   ]
  },
  {
   "cell_type": "code",
   "execution_count": 3,
   "id": "ef24005e",
   "metadata": {},
   "outputs": [],
   "source": [
    "def gauss(x, mu, sigma, A):\n",
    "    return A*np.exp(-(x-mu)**2/2/sigma**2)\n",
    "def gaussleft(mu, sigma):\n",
    "    gauss_left_end = mu-10*sigma\n",
    "    return gauss_left_end\n",
    "def gaussright(mu, sigma):\n",
    "    gauss_right_end = mu+10*sigma\n",
    "    return gauss_right_end"
   ]
  },
  {
   "cell_type": "code",
   "execution_count": 4,
   "id": "a9f3ab59",
   "metadata": {},
   "outputs": [
    {
     "data": {
      "text/plain": [
       "(0.0, 2170.0)"
      ]
     },
     "execution_count": 4,
     "metadata": {},
     "output_type": "execute_result"
    },
    {
     "data": {
      "image/png": "[encoded data removed]",
      "text/plain": [
       "<Figure size 432x288 with 1 Axes>"
      ]
     },
     "metadata": {
      "needs_background": "light"
     },
     "output_type": "display_data"
    }
   ],
   "source": [
    "# Check imported plots & determine bar container\n",
    "# Fill-in. The higher the number, the lower the resolution of the hist\n",
    "step1 = 10\n",
    "\n",
    "data1['masses_kDa'] = data1['masses_kDa']\n",
    "lowest_MW1 = 0\n",
    "highest_MW1 = round(data1['masses_kDa'].max(), -1)   \n",
    "data1 = data1[(data1.masses_kDa > lowest_MW1) & (data1.masses_kDa < highest_MW1)]\n",
    "masses1 = data1['masses_kDa']\n",
    "q1 = list(np.arange(-5,highest_MW1,step1)) #creates a list from -5 to highest_MW with steps of x\n",
    "counts1, bins1, patches1 = plt.hist(masses1, bins = q1, alpha = .3)\n",
    "\n",
    "# plt.ylim(0,80)\n",
    "plt.xlim(lowest_MW1, highest_MW1)"
   ]
  },
  {
   "cell_type": "code",
   "execution_count": 5,
   "id": "17afd4ad",
   "metadata": {},
   "outputs": [
    {
     "name": "stdout",
     "output_type": "stream",
     "text": [
      "        params_1a     sigma\n",
      "mu     414.547337  2.243952\n",
      "sigma   29.467415  2.243952\n",
      "A       89.021601  5.870214\n",
      "        params_1b     sigma\n",
      "mu     851.055227  8.596037\n",
      "sigma   42.509555  8.596037\n",
      "A       40.698659  7.125833\n"
     ]
    },
    {
     "data": {
      "image/png": "[encoded data removed]",
      "text/plain": [
       "<Figure size 432x288 with 1 Axes>"
      ]
     },
     "metadata": {
      "needs_background": "light"
     },
     "output_type": "display_data"
    }
   ],
   "source": [
    "# Set expected fitted peaks according to MP outcome. Each \"expected\" variable is for a single dataset.\n",
    "# mu - avr of gaussian distribution\n",
    "# sigma - std dev of peak\n",
    "# A - Height of peak after selecting the corresponding bin container\n",
    "\n",
    "# Fill-in: MW, std dev, peak height in determined bin container size\n",
    "expected1a = (413, 30, 150)\n",
    "expected1b = (847, 42, 70)\n",
    "\n",
    "counts1, bins1, patches1 = plt.hist(masses1, bins = q1, alpha = .3)\n",
    "x1 = np.linspace(lowest_MW1, highest_MW1, len(patches1))\n",
    "params1a, cov1a = curve_fit(gauss, x1, counts1, expected1a)\n",
    "params1b, cov1b = curve_fit(gauss, x1, counts1, expected1b)\n",
    "sigma1a=np.sqrt(np.diag(cov1a))\n",
    "sigma1b=np.sqrt(np.diag(cov1b))\n",
    "\n",
    "x_fit1a = np.linspace(gaussleft(expected1a[0], expected1a[1]),gaussright(expected1a[0], expected1a[1]), 5000)\n",
    "x_fit1b = np.linspace(gaussleft(expected1b[0], expected1b[1]),gaussright(expected1b[0], expected1b[1]), 5000)\n",
    "\n",
    "y_fit1a = gauss(x_fit1a, *params1a[:3])\n",
    "y_fit1b = gauss(x_fit1b, *params1b[:3])\n",
    "\n",
    "plt.plot(x_fit1a, y_fit1a, color='red', lw=1.5, ls=\":\")\n",
    "plt.plot(x_fit1b, y_fit1b, color='red', lw=1.5, ls=\"-\")\n",
    "\n",
    "plt.ylabel('Counts')\n",
    "plt.xlabel('Molecular Weight (kDa)')\n",
    "\n",
    "print(pd.DataFrame(data={'params_1a': params1a, 'sigma': sigma1a}, index=gauss.__code__.co_varnames[1:]))\n",
    "print(pd.DataFrame(data={'params_1b': params1b, 'sigma': sigma1b}, index=gauss.__code__.co_varnames[1:]))"
   ]
  },
  {
   "cell_type": "code",
   "execution_count": null,
   "id": "9f5209a5",
   "metadata": {},
   "outputs": [],
   "source": []
  }
 ],
 "metadata": {
  "kernelspec": {
   "display_name": "Python 3 (ipykernel)",
   "language": "python",
   "name": "python3"
  },
  "language_info": {
   "codemirror_mode": {
    "name": "ipython",
    "version": 3
   },
   "file_extension": ".py",
   "mimetype": "text/x-python",
   "name": "python",
   "nbconvert_exporter": "python",
   "pygments_lexer": "ipython3",
   "version": "3.9.12"
  }
 },
 "nbformat": 4,
 "nbformat_minor": 5
}
