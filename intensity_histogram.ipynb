{
 "cells": [
  {
   "cell_type": "code",
   "execution_count": 1,
   "metadata": {},
   "outputs": [
    {
     "name": "stdout",
     "output_type": "stream",
     "text": [
      " Figures will be saved in this folder:\n",
      " \\\\cifs1.bpcentral.biophys.mpg.de\\msdata\\kimlab\\SMC56LoopingProject\\data\\figs_python\n"
     ]
    }
   ],
   "source": [
    "import os\n",
    "import pandas as pd\n",
    "import numpy as np\n",
    "import matplotlib.pyplot as plt\n",
    "import h5py\n",
    "\n",
    "params_dict = {\n",
    "    'font.size' : 12,\n",
    "    'axes.labelsize': 'medium',\n",
    "    'xtick.top' : True,\n",
    "    'ytick.right' : True,\n",
    "    'axes.labelsize' : 16,\n",
    "    'xtick.labelsize' : 14,\n",
    "    'ytick.labelsize' : 14,\n",
    "    'xtick.top' : True,\n",
    "    'ytick.right' : True,\n",
    "    'xtick.direction' : 'in',\n",
    "    'ytick.direction' : 'in',\n",
    "    'legend.frameon' : True,\n",
    "    'svg.fonttype' : 'none',\n",
    "    'pdf.fonttype' : 42,\n",
    "    'savefig.transparent' : True\n",
    "}\n",
    "plt.rcParams.update(params_dict)\n",
    "save_dir = os.path.join(os.getcwd(), 'figs_python')\n",
    "if not os.path.isdir(save_dir):\n",
    "    os.makedirs(save_dir)\n",
    "print(f' Figures will be saved in this folder:\\n {save_dir}')"
   ]
  },
  {
   "cell_type": "code",
   "execution_count": 2,
   "metadata": {},
   "outputs": [],
   "source": [
    "def get_file_list(directory, extension=\".tif\", exclude_ext=\"_processed.tif\", contains=None):\n",
    "    file_list = []\n",
    "    for root, dirs, files in os.walk(directory):\n",
    "        for file in files:\n",
    "            if file.endswith(extension) and not file.endswith(exclude_ext):\n",
    "                fpath = os.path.join(root, file)\n",
    "                if contains is not None:\n",
    "                    if contains in fpath:\n",
    "                        file_list.append(fpath)\n",
    "                else:\n",
    "                    file_list.append(fpath)\n",
    "    return file_list"
   ]
  },
  {
   "cell_type": "code",
   "execution_count": 3,
   "metadata": {},
   "outputs": [
    {
     "data": {
      "text/plain": [
       "['\\\\\\\\cifs1.bpcentral.biophys.mpg.de\\\\msdata\\\\kimlab\\\\Eugene\\\\20220310\\\\20220310_Nse4SNAPAlexa647NoSEC_600mV_5nM_imgs_2_analysis\\\\loop (2).tif',\n",
       " '\\\\\\\\cifs1.bpcentral.biophys.mpg.de\\\\msdata\\\\kimlab\\\\Eugene\\\\20220310\\\\20220310_Nse4SNAPAlexa647NoSEC_600mV_5nM_imgs_2_analysis\\\\loop (3).tif']"
      ]
     },
     "execution_count": 3,
     "metadata": {},
     "output_type": "execute_result"
    }
   ],
   "source": [
    "data_dir = r'\\\\cifs1.bpcentral.biophys.mpg.de\\msdata\\kimlab\\Eugene'\n",
    "data_dir_bis = r'\\\\cifs1.bpcentral.biophys.mpg.de\\msdata\\kimlab\\biswajit\\data'\n",
    "get_file_list(data_dir, extension=(\"loop (2).tif\", \"loop (3).tif\"), contains='20220310_Nse4SNAPAlexa647NoSEC_600mV_5nM_imgs_2_analysis')\n",
    "# get_file_list(data_dir, extension=(\"loop (2).tif\", \"loop (3).tif\"), contains=None)"
   ]
  },
  {
   "cell_type": "code",
   "execution_count": 4,
   "metadata": {},
   "outputs": [
    {
     "data": {
      "text/plain": [
       "['WT_2nM_100mM_NaCl_7p5mM_MgCl2',\n",
       " 'Nse4SNAP_Alexa640',\n",
       " 'Nse4SNAP_Alexa640_NonLoop',\n",
       " 'Nse4SNAP_Alexa640_side_flow',\n",
       " 'Side_flow',\n",
       " 'Looping_fraction']"
      ]
     },
     "execution_count": 4,
     "metadata": {},
     "output_type": "execute_result"
    }
   ],
   "source": [
    "excelfile = r'\\\\cifs1.bpcentral.biophys.mpg.de\\msdata\\kimlab\\SMC56LoopingProject\\data\\All_data_label_BP.xlsx'\n",
    "os.path.isfile(excelfile)\n",
    "excel_all_data_label = pd.ExcelFile('All_data_label_BP.xlsx')\n",
    "excel_all_data_label.sheet_names"
   ]
  },
  {
   "cell_type": "code",
   "execution_count": 5,
   "metadata": {},
   "outputs": [
    {
     "data": {
      "text/html": [
       "<div>\n",
       "<style scoped>\n",
       "    .dataframe tbody tr th:only-of-type {\n",
       "        vertical-align: middle;\n",
       "    }\n",
       "\n",
       "    .dataframe tbody tr th {\n",
       "        vertical-align: top;\n",
       "    }\n",
       "\n",
       "    .dataframe thead th {\n",
       "        text-align: right;\n",
       "    }\n",
       "</style>\n",
       "<table border=\"1\" class=\"dataframe\">\n",
       "  <thead>\n",
       "    <tr style=\"text-align: right;\">\n",
       "      <th></th>\n",
       "      <th>Name</th>\n",
       "      <th>X</th>\n",
       "      <th>Y</th>\n",
       "      <th>W</th>\n",
       "      <th>H</th>\n",
       "      <th>co-localization protein and loop start?</th>\n",
       "      <th>binding?</th>\n",
       "      <th>bleaching?</th>\n",
       "      <th>how many molecules?</th>\n",
       "      <th>DeltaT1</th>\n",
       "      <th>DeltaT2</th>\n",
       "      <th>frame duration</th>\n",
       "      <th>frame range</th>\n",
       "      <th>comments</th>\n",
       "      <th>folderpath</th>\n",
       "      <th>Rate</th>\n",
       "      <th>Unnamed: 16</th>\n",
       "    </tr>\n",
       "  </thead>\n",
       "  <tbody>\n",
       "    <tr>\n",
       "      <th>0</th>\n",
       "      <td>loop</td>\n",
       "      <td>1.65781</td>\n",
       "      <td>12.711597</td>\n",
       "      <td>6.296547</td>\n",
       "      <td>4.352076</td>\n",
       "      <td>NaN</td>\n",
       "      <td>NaN</td>\n",
       "      <td>NaN</td>\n",
       "      <td>NaN</td>\n",
       "      <td>NaN</td>\n",
       "      <td>NaN</td>\n",
       "      <td>NaN</td>\n",
       "      <td>NaN</td>\n",
       "      <td>loop from the start</td>\n",
       "      <td>20220310_Nse4SNAPAlexa647NoSEC_600mV_5nM_imgs_6</td>\n",
       "      <td>NaN</td>\n",
       "      <td>NaN</td>\n",
       "    </tr>\n",
       "    <tr>\n",
       "      <th>1</th>\n",
       "      <td>no loop</td>\n",
       "      <td>33.542373</td>\n",
       "      <td>27.190141</td>\n",
       "      <td>10</td>\n",
       "      <td>3</td>\n",
       "      <td>NaN</td>\n",
       "      <td>NaN</td>\n",
       "      <td>NaN</td>\n",
       "      <td>NaN</td>\n",
       "      <td>NaN</td>\n",
       "      <td>NaN</td>\n",
       "      <td>NaN</td>\n",
       "      <td>NaN</td>\n",
       "      <td>NaN</td>\n",
       "      <td>20220310_Nse4SNAPAlexa647NoSEC_600mV_5nM_imgs_6</td>\n",
       "      <td>NaN</td>\n",
       "      <td>NaN</td>\n",
       "    </tr>\n",
       "    <tr>\n",
       "      <th>2</th>\n",
       "      <td>loop (2)</td>\n",
       "      <td>41.736341</td>\n",
       "      <td>12.104344</td>\n",
       "      <td>5.64648</td>\n",
       "      <td>4.197738</td>\n",
       "      <td>yes</td>\n",
       "      <td>yes</td>\n",
       "      <td>yes</td>\n",
       "      <td>2.0</td>\n",
       "      <td>22.0</td>\n",
       "      <td>423.0</td>\n",
       "      <td>1480.0</td>\n",
       "      <td>1471-2953</td>\n",
       "      <td>short end-to-end, short binding</td>\n",
       "      <td>20220310_Nse4SNAPAlexa647NoSEC_600mV_5nM_imgs_6</td>\n",
       "      <td>NaN</td>\n",
       "      <td>NaN</td>\n",
       "    </tr>\n",
       "    <tr>\n",
       "      <th>3</th>\n",
       "      <td>loop (3)</td>\n",
       "      <td>29.70676</td>\n",
       "      <td>18.178587</td>\n",
       "      <td>8.260428</td>\n",
       "      <td>3.798492</td>\n",
       "      <td>NaN</td>\n",
       "      <td>yes</td>\n",
       "      <td>yes</td>\n",
       "      <td>NaN</td>\n",
       "      <td>NaN</td>\n",
       "      <td>NaN</td>\n",
       "      <td>NaN</td>\n",
       "      <td>NaN</td>\n",
       "      <td>directional translocations</td>\n",
       "      <td>20220310_Nse4SNAPAlexa647NoSEC_600mV_5nM_imgs_6</td>\n",
       "      <td>NaN</td>\n",
       "      <td>NaN</td>\n",
       "    </tr>\n",
       "    <tr>\n",
       "      <th>4</th>\n",
       "      <td>loop (4)</td>\n",
       "      <td>64.250965</td>\n",
       "      <td>30.412626</td>\n",
       "      <td>6.644594</td>\n",
       "      <td>4.99623</td>\n",
       "      <td>yes</td>\n",
       "      <td>yes</td>\n",
       "      <td>yes</td>\n",
       "      <td>2.0</td>\n",
       "      <td>50.0</td>\n",
       "      <td>247.0</td>\n",
       "      <td>4150.0</td>\n",
       "      <td>851-5000</td>\n",
       "      <td>short end-to-end, Loop initiation on binding o...</td>\n",
       "      <td>20220310_Nse4SNAPAlexa647NoSEC_600mV_5nM_imgs_6</td>\n",
       "      <td>NaN</td>\n",
       "      <td>NaN</td>\n",
       "    </tr>\n",
       "  </tbody>\n",
       "</table>\n",
       "</div>"
      ],
      "text/plain": [
       "       Name          X          Y         W         H  \\\n",
       "0      loop    1.65781  12.711597  6.296547  4.352076   \n",
       "1   no loop  33.542373  27.190141        10         3   \n",
       "2  loop (2)  41.736341  12.104344   5.64648  4.197738   \n",
       "3  loop (3)   29.70676  18.178587  8.260428  3.798492   \n",
       "4  loop (4)  64.250965  30.412626  6.644594   4.99623   \n",
       "\n",
       "  co-localization protein and loop start? binding? bleaching?  \\\n",
       "0                                     NaN      NaN        NaN   \n",
       "1                                     NaN      NaN        NaN   \n",
       "2                                     yes      yes        yes   \n",
       "3                                     NaN      yes        yes   \n",
       "4                                     yes      yes        yes   \n",
       "\n",
       "   how many molecules?  DeltaT1  DeltaT2  frame duration frame range  \\\n",
       "0                  NaN      NaN      NaN             NaN         NaN   \n",
       "1                  NaN      NaN      NaN             NaN         NaN   \n",
       "2                  2.0     22.0    423.0          1480.0   1471-2953   \n",
       "3                  NaN      NaN      NaN             NaN         NaN   \n",
       "4                  2.0     50.0    247.0          4150.0    851-5000   \n",
       "\n",
       "                                            comments  \\\n",
       "0                                loop from the start   \n",
       "1                                                NaN   \n",
       "2                    short end-to-end, short binding   \n",
       "3                         directional translocations   \n",
       "4  short end-to-end, Loop initiation on binding o...   \n",
       "\n",
       "                                        folderpath  Rate Unnamed: 16  \n",
       "0  20220310_Nse4SNAPAlexa647NoSEC_600mV_5nM_imgs_6   NaN         NaN  \n",
       "1  20220310_Nse4SNAPAlexa647NoSEC_600mV_5nM_imgs_6   NaN         NaN  \n",
       "2  20220310_Nse4SNAPAlexa647NoSEC_600mV_5nM_imgs_6   NaN         NaN  \n",
       "3  20220310_Nse4SNAPAlexa647NoSEC_600mV_5nM_imgs_6   NaN         NaN  \n",
       "4  20220310_Nse4SNAPAlexa647NoSEC_600mV_5nM_imgs_6   NaN         NaN  "
      ]
     },
     "execution_count": 5,
     "metadata": {},
     "output_type": "execute_result"
    }
   ],
   "source": [
    "data_label_loop = excel_all_data_label.parse('Nse4SNAP_Alexa640')\n",
    "data_label_loop = data_label_loop[data_label_loop['Name'].notna()]\n",
    "data_label_loop.head()"
   ]
  },
  {
   "cell_type": "code",
   "execution_count": 6,
   "metadata": {},
   "outputs": [
    {
     "name": "stdout",
     "output_type": "stream",
     "text": [
      "['20220409_CH1_0p5nMSMC56SnapAle47_imgs_1_analysis', '20220409_CH1_0p5nMSMC56SnapAle47_imgs_2_analysis', '20220409_CH2_0p5nMSMC56SnapAle47_new_imgs_1_analysis', '20220409_CH2_0p5nMSMC56SnapAle47_new_imgs_3_analysis', '20220410_CH1_0p5nMSMC56SnapAl647_imgs_1_analysis', '20220410_CH1_0p5nMSMC56SnapAl647_imgs_2_analysis', '20220410_CH1_0p5nMSMC56SnapAl647_imgs_3_analysis', '20220410_CH2_0p5nMSMC56SnapAl647_imgs_2_analysis']\n"
     ]
    }
   ],
   "source": [
    "data_label_sel = data_label_loop[data_label_loop['folderpath'].notna()]\n",
    "data_label_sel = data_label_sel[data_label_sel['folderpath'].str.contains('0p5nM')]# Choose the conc here\n",
    "\n",
    "df_gb_folder = data_label_sel.groupby('folderpath')\n",
    "gb_names = list(df_gb_folder.groups.keys())\n",
    "print(gb_names)\n",
    "# folder_name = gb_names[5]\n",
    "# data_dir = r'\\\\cifs1.bpcentral.biophys.mpg.de\\msdata\\kimlab\\Eugene'\n",
    "data_dir = r'\\\\cifs1.bpcentral.biophys.mpg.de\\msdata\\kimlab\\SMC56LoopingProject\\data'\n",
    "int_arr_smol = np.array([])\n",
    "for folder_name in gb_names:\n",
    "    df_gb_sel = df_gb_folder.get_group(folder_name)\n",
    "    df_gb_sel = df_gb_sel[df_gb_sel['co-localization protein and loop start?']=='no'] # select colocalized molecules\n",
    "    name_list = list(df_gb_sel.Name.values)\n",
    "\n",
    "    name_list = tuple([s + '_analysis.hdf5' for s in name_list]) # add extension to the filename: _inttrace.csv, \n",
    "    # print(name_list)\n",
    "    # data_dir = r'\\\\cifs1.bpcentral.biophys.mpg.de\\msdata\\kimlab\\SMC56LoopingProject\\data'\n",
    "    path_list = get_file_list(data_dir, extension=name_list, contains=folder_name)\n",
    "    for filepath in path_list:\n",
    "        with h5py.File(filepath, 'r') as h5:\n",
    "            if 'Right Linked Peaks' in h5:\n",
    "                df_right = pd.DataFrame(h5['Right Linked Peaks'][...])\n",
    "                df_right_gb = df_right\n",
    "                int_smol = df_right['PeakIntensity'].values#[:100]\n",
    "                int_arr_smol = np.append(int_arr_smol, int_smol)\n",
    "        # df_inttrc = pd.read_csv(filepath)\n",
    "        # int_arr_smol = np.append(int_arr_smol, df_inttrc['smol'].values[50:200])\n",
    "        # int_arr_smol = np.append(int_arr_smol, df_inttrc['smol'].values[100:-100])\n",
    "    # print(path_list)\n",
    "int_arr_smol_noSmol = int_arr_smol\n",
    "\n",
    "int_arr_smol = np.array([])\n",
    "for folder_name in gb_names:\n",
    "    df_gb_sel = df_gb_folder.get_group(folder_name)\n",
    "    df_gb_sel = df_gb_sel[df_gb_sel['how many molecules?']==1]\n",
    "    name_list = list(df_gb_sel.Name.values)\n",
    "\n",
    "    name_list = tuple([s + '_analysis.hdf5' for s in name_list]) # add extension to the filename: _inttrace.csv, \n",
    "    # print(name_list)\n",
    "    # data_dir = r'\\\\cifs1.bpcentral.biophys.mpg.de\\msdata\\kimlab\\SMC56LoopingProject\\data'\n",
    "    path_list = get_file_list(data_dir, extension=name_list, contains=folder_name)\n",
    "    for filepath in path_list:\n",
    "        with h5py.File(filepath, 'r') as h5:\n",
    "            if 'Right Linked Peaks' in h5:\n",
    "                df_right = pd.DataFrame(h5['Right Linked Peaks'][...])\n",
    "                int_smol = df_right['PeakIntensity'].values#[:200]\n",
    "                int_arr_smol = np.append(int_arr_smol, int_smol)\n",
    "int_arr_smol_1Mol = int_arr_smol\n",
    "\n",
    "int_arr_smol = np.array([])\n",
    "for folder_name in gb_names:\n",
    "    df_gb_sel = df_gb_folder.get_group(folder_name)\n",
    "    df_gb_sel = df_gb_sel[df_gb_sel['how many molecules?']==2]\n",
    "    name_list = list(df_gb_sel.Name.values)\n",
    "\n",
    "    name_list = tuple([s + '_analysis.hdf5' for s in name_list]) # add extension to the filename: _inttrace.csv, \n",
    "    # print(name_list)\n",
    "    # data_dir = r'\\\\cifs1.bpcentral.biophys.mpg.de\\msdata\\kimlab\\SMC56LoopingProject\\data'\n",
    "    path_list = get_file_list(data_dir, extension=name_list, contains=folder_name)\n",
    "    for filepath in path_list:\n",
    "        with h5py.File(filepath, 'r') as h5:\n",
    "            if 'Right Linked Peaks' in h5:\n",
    "                df_right = pd.DataFrame(h5['Right Linked Peaks'][...])\n",
    "                int_smol = df_right['PeakIntensity'].values#[:100]\n",
    "                int_arr_smol = np.append(int_arr_smol, int_smol)\n",
    "int_arr_smol_2Mol = int_arr_smol"
   ]
  },
  {
   "cell_type": "code",
   "execution_count": 7,
   "metadata": {},
   "outputs": [
    {
     "data": {
      "text/html": [
       "<div>\n",
       "<style scoped>\n",
       "    .dataframe tbody tr th:only-of-type {\n",
       "        vertical-align: middle;\n",
       "    }\n",
       "\n",
       "    .dataframe tbody tr th {\n",
       "        vertical-align: top;\n",
       "    }\n",
       "\n",
       "    .dataframe thead th {\n",
       "        text-align: right;\n",
       "    }\n",
       "</style>\n",
       "<table border=\"1\" class=\"dataframe\">\n",
       "  <thead>\n",
       "    <tr style=\"text-align: right;\">\n",
       "      <th></th>\n",
       "      <th>index</th>\n",
       "      <th>FrameNumber</th>\n",
       "      <th>PeakPosition</th>\n",
       "      <th>PeakIntensity</th>\n",
       "      <th>PeakUpIntensity</th>\n",
       "      <th>PeakDownIntensity</th>\n",
       "      <th>x</th>\n",
       "      <th>y</th>\n",
       "      <th>frame</th>\n",
       "    </tr>\n",
       "    <tr>\n",
       "      <th>particle</th>\n",
       "      <th></th>\n",
       "      <th></th>\n",
       "      <th></th>\n",
       "      <th></th>\n",
       "      <th></th>\n",
       "      <th></th>\n",
       "      <th></th>\n",
       "      <th></th>\n",
       "      <th></th>\n",
       "    </tr>\n",
       "  </thead>\n",
       "  <tbody>\n",
       "    <tr>\n",
       "      <th>1</th>\n",
       "      <td>42</td>\n",
       "      <td>42</td>\n",
       "      <td>42</td>\n",
       "      <td>42</td>\n",
       "      <td>42</td>\n",
       "      <td>42</td>\n",
       "      <td>42</td>\n",
       "      <td>42</td>\n",
       "      <td>42</td>\n",
       "    </tr>\n",
       "  </tbody>\n",
       "</table>\n",
       "</div>"
      ],
      "text/plain": [
       "          index  FrameNumber  PeakPosition  PeakIntensity  PeakUpIntensity  \\\n",
       "particle                                                                     \n",
       "1            42           42            42             42               42   \n",
       "\n",
       "          PeakDownIntensity   x   y  frame  \n",
       "particle                                    \n",
       "1                        42  42  42     42  "
      ]
     },
     "execution_count": 7,
     "metadata": {},
     "output_type": "execute_result"
    }
   ],
   "source": [
    "df_right.groupby('particle').count()"
   ]
  },
  {
   "cell_type": "code",
   "execution_count": 8,
   "metadata": {},
   "outputs": [
    {
     "data": {
      "text/plain": [
       "<matplotlib.legend.Legend at 0x1cc31d2fb50>"
      ]
     },
     "execution_count": 8,
     "metadata": {},
     "output_type": "execute_result"
    },
    {
     "data": {
      "image/png": "[encoded data removed]",
      "text/plain": [
       "<Figure size 432x288 with 1 Axes>"
      ]
     },
     "metadata": {
      "needs_background": "light"
     },
     "output_type": "display_data"
    }
   ],
   "source": [
    "_density = True\n",
    "\n",
    "plt.hist(int_arr_smol_noSmol, range=(0, 10000), bins=200, density=_density, histtype='step', label='No Mol');\n",
    "plt.axvline(int_arr_smol_noSmol.mean(), label='No Mol Mean:'+str(int_arr_smol_noSmol.mean()))\n",
    "\n",
    "plt.hist(int_arr_smol_1Mol, range=(0, 10000), bins=200, density=_density, histtype='step', label='1 Mol');\n",
    "plt.axvline(int_arr_smol_1Mol.mean(), label='1 Mol Mean:'+str(int_arr_smol_1Mol.mean()))\n",
    "\n",
    "plt.hist(int_arr_smol_2Mol, range=(0, 10000), bins=200, density=_density, histtype='step', label='2 Mol');\n",
    "plt.axvline(int_arr_smol_2Mol.mean(), label='2 Mol Mean:'+str(int_arr_smol_2Mol.mean()))\n",
    "\n",
    "plt.legend()"
   ]
  },
  {
   "cell_type": "code",
   "execution_count": 16,
   "metadata": {},
   "outputs": [
    {
     "name": "stdout",
     "output_type": "stream",
     "text": [
      "No of 2step files: 21,\n",
      "No of 1step files: 11,\n",
      "No of 0step files: 8,\n",
      "        \n"
     ]
    },
    {
     "data": {
      "image/png": "[encoded data removed]",
      "text/plain": [
       "<Figure size 288x288 with 1 Axes>"
      ]
     },
     "metadata": {
      "needs_background": "light"
     },
     "output_type": "display_data"
    }
   ],
   "source": [
    "# https://stackoverflow.com/questions/35990467/fit-mixture-of-two-gaussian-normal-distributions-to-a-histogram-from-one-set-of\n",
    "fig, ax = plt.subplots(figsize=(4,4))\n",
    "\n",
    "data_dir = r'\\\\cifs1.bpcentral.biophys.mpg.de\\msdata\\kimlab\\Eugene'\n",
    "\n",
    "# data_dir = r'\\\\cifs1.bpcentral.biophys.mpg.de\\msdata\\kimlab\\SMC56LoopingProject\\data'\n",
    "\n",
    "filelist_0step = get_file_list(data_dir, extension=(\"_inttrace.csv\"), contains='0stepbleaching_trace')\n",
    "filelist_1step = get_file_list(data_dir, extension=(\"_inttrace.csv\"), contains='1stepbleaching_trace')\n",
    "filelist_2step = get_file_list(data_dir, extension=(\"_inttrace.csv\"), contains='2stepbleaching_trace')\n",
    "print(f'No of 2step files: {len(filelist_2step)},\\n\\\n",
    "No of 1step files: {len(filelist_1step)},\\n\\\n",
    "No of 0step files: {len(filelist_0step)},\\n\\\n",
    "        ')\n",
    "_density = True\n",
    "\n",
    "int_arr_smol = np.array([])\n",
    "for filecsv in filelist_0step:\n",
    "    df = pd.read_csv(filecsv)\n",
    "    int_smol = df['smol'].values[:200]\n",
    "    int_arr_smol = np.append(int_arr_smol, int_smol)\n",
    "plt.hist(int_arr_smol, range=(0, 10000), bins=40, density=_density, histtype='step', label='0 steps')\n",
    "plt.axvline(np.median(int_arr_smol))\n",
    "\n",
    "int_arr_smol = np.array([])\n",
    "for filecsv in filelist_1step:\n",
    "    df = pd.read_csv(filecsv)\n",
    "    int_smol = df['smol'].values[:500]\n",
    "    int_arr_smol = np.append(int_arr_smol, int_smol)\n",
    "plt.hist(int_arr_smol, range=(0, 10000), bins=40, density=_density, histtype='step', label='1 steps')\n",
    "plt.axvline(np.mean(int_arr_smol))\n",
    "\n",
    "int_arr_smol = np.array([])\n",
    "for filecsv in filelist_2step:\n",
    "    df = pd.read_csv(filecsv)\n",
    "    int_smol = df['smol'].values[:200]\n",
    "    int_arr_smol = np.append(int_arr_smol, int_smol)\n",
    "plt.hist(int_arr_smol, range=(0, 10000), bins=40, density=_density, histtype='step', label='2 steps');\n",
    "plt.axvline(np.mean(int_arr_smol))\n",
    "\n",
    "ax.ticklabel_format(axis='both', style='sci', scilimits=(-1,4))\n",
    "\n",
    "plt.xlabel('Intensity')\n",
    "plt.ylabel('PDF')\n",
    "plt.legend();\n",
    "\n",
    "plt.savefig(os.path.join(save_dir, 'intensity_histogram_Loops.svg'))"
   ]
  },
  {
   "cell_type": "markdown",
   "metadata": {},
   "source": [
    "## 1 and 2 bleaching together:  full trace"
   ]
  },
  {
   "cell_type": "code",
   "execution_count": 10,
   "metadata": {},
   "outputs": [
    {
     "data": {
      "image/png": "[encoded data removed]",
      "text/plain": [
       "<Figure size 432x288 with 1 Axes>"
      ]
     },
     "metadata": {
      "needs_background": "light"
     },
     "output_type": "display_data"
    }
   ],
   "source": [
    "fig, ax = plt.subplots()\n",
    "\n",
    "data_dir = r'\\\\cifs1.bpcentral.biophys.mpg.de\\msdata\\kimlab\\Eugene'\n",
    "\n",
    "# data_dir = r'\\\\cifs1.bpcentral.biophys.mpg.de\\msdata\\kimlab\\SMC56LoopingProject\\data'\n",
    "\n",
    "# filelist_all = get_file_list(data_dir, extension=(\"_inttrace.csv\"))\n",
    "filelist_1step = get_file_list(data_dir, extension=(\"_inttrace.csv\"), contains='1stepbleaching_trace')\n",
    "filelist_2step = get_file_list(data_dir, extension=(\"_inttrace.csv\"), contains='2stepbleaching_trace')\n",
    "_density = True\n",
    "\n",
    "int_arr_smol = np.array([])\n",
    "for filecsv in filelist_1step:\n",
    "    df = pd.read_csv(filecsv)\n",
    "    int_smol = df['smol'].values#[:100]\n",
    "    int_arr_smol = np.append(int_arr_smol, int_smol)\n",
    "int_arr_smol_1mol = int_arr_smol\n",
    "\n",
    "\n",
    "int_arr_smol = np.array([])\n",
    "for filecsv in filelist_2step:\n",
    "    df = pd.read_csv(filecsv)\n",
    "    int_smol = df['smol'].values#[:100]\n",
    "    int_arr_smol = np.append(int_arr_smol, int_smol)\n",
    "int_arr_smol_2mol = int_arr_smol\n",
    "\n",
    "int_arr_smol_all = np.append(int_arr_smol_1mol, int_arr_smol_2mol)\n",
    "plt.hist(int_arr_smol_all, range=(0, 20000), bins=20, density=_density,\n",
    "        histtype='bar', color='k', alpha=0.7, rwidth=0.5, label='1 and 2 steps with less bins');\n",
    "plt.axvline(np.mean(int_arr_smol_all))\n",
    "\n",
    "ax.ticklabel_format(axis='both', style='sci', scilimits=(-1,4))\n",
    "\n",
    "plt.xlabel('Intensity')\n",
    "plt.ylabel('PDF')\n",
    "plt.legend();\n",
    "\n",
    "plt.savefig(os.path.join(save_dir, 'intensity_histogram_Loops_all.svg'))"
   ]
  },
  {
   "cell_type": "code",
   "execution_count": 11,
   "metadata": {},
   "outputs": [
    {
     "name": "stdout",
     "output_type": "stream",
     "text": [
      "No of NonLoop files: 19,\n",
      "No of Background files: 5,\n",
      "        \n"
     ]
    },
    {
     "data": {
      "image/png": "[encoded data removed]",
      "text/plain": [
       "<Figure size 432x288 with 1 Axes>"
      ]
     },
     "metadata": {
      "needs_background": "light"
     },
     "output_type": "display_data"
    }
   ],
   "source": [
    "fig, ax = plt.subplots()\n",
    "\n",
    "data_dir = r'\\\\cifs1.bpcentral.biophys.mpg.de\\msdata\\kimlab\\Eugene'\n",
    "filelist_NonLoop = get_file_list(data_dir, extension=(\"_inttrace.csv\"), contains='NonLoops_trace')\n",
    "filelist_NonLoop_bkg = get_file_list(data_dir, extension=(\"_inttrace.csv\"), contains='NonLoops_background_trace')\n",
    "print(f'No of NonLoop files: {len(filelist_NonLoop)},\\n\\\n",
    "No of Background files: {len(filelist_NonLoop_bkg)},\\n\\\n",
    "        ')\n",
    "\n",
    "_density = True\n",
    "\n",
    "int_arr_smol = np.array([])\n",
    "for filecsv in filelist_NonLoop:# imp to change\n",
    "    df = pd.read_csv(filecsv)\n",
    "    int_smol = df['smol'].values[:200]\n",
    "    int_arr_smol = np.append(int_arr_smol, int_smol)\n",
    "plt.hist(int_arr_smol, range=(0, 10000), bins=30, density=_density, histtype='step', label='Non-Loop')\n",
    "plt.axvline(np.median(int_arr_smol))\n",
    "\n",
    "int_arr_smol = np.array([])\n",
    "for filecsv in filelist_NonLoop_bkg:#imp to change\n",
    "    df = pd.read_csv(filecsv)\n",
    "    int_smol = df['smol'].values[:200]\n",
    "    int_arr_smol = np.append(int_arr_smol, int_smol)\n",
    "plt.hist(int_arr_smol, range=(0, 10000), bins=30, density=_density, histtype='step', label='background')\n",
    "plt.axvline(np.median(int_arr_smol))\n",
    "\n",
    "ax.ticklabel_format(axis='both', style='sci', scilimits=(-1,4))\n",
    "\n",
    "plt.xlabel('Intensity')\n",
    "plt.ylabel('PDF')\n",
    "plt.legend();\n",
    "plt.savefig(os.path.join(save_dir, 'intensity_histogram_NonLoops.svg'))"
   ]
  },
  {
   "cell_type": "markdown",
   "metadata": {},
   "source": [
    "## time trace"
   ]
  },
  {
   "cell_type": "code",
   "execution_count": 12,
   "metadata": {},
   "outputs": [
    {
     "data": {
      "image/png": "[encoded data removed]",
      "text/plain": [
       "<Figure size 288x288 with 2 Axes>"
      ]
     },
     "metadata": {
      "needs_background": "light"
     },
     "output_type": "display_data"
    }
   ],
   "source": [
    "filecsv = r'\\\\cifs1.bpcentral.biophys.mpg.de\\msdata\\kimlab\\SMC56LoopingProject\\data\\Selected_molecules\\2bleaching_step\\loop (12)_inttrace.csv'\n",
    "df = pd.read_csv(filecsv)\n",
    "\n",
    "figure = plt.figure(figsize=(4, 4))\n",
    "nrows = 2\n",
    "ncols = 1\n",
    "ax00 = plt.subplot2grid((nrows, ncols), (0, 0), fig=figure)\n",
    "ax10 = plt.subplot2grid((nrows, ncols), (1, 0), fig=figure, sharex=ax00)\n",
    "\n",
    "# ax00.plot(df['smol'])\n",
    "# ax00.plot(df.rolling(10).mean()['smol'])\n",
    "\n",
    "n = 2 # the number of rows\n",
    "ax00.plot(df.groupby(np.arange(len(df))//n).mean()['dna'])\n",
    "ax10.plot(df.groupby(np.arange(len(df))//n).mean()['smol'])\n",
    "ax00.set_xlim(0, len(df)/n)\n",
    "ax00.set_ylim(0, None)\n",
    "ax10.set_ylim(0, None)\n",
    "plt.xlabel(f\"frame/{n}\")\n",
    "plt.savefig(filecsv[:-3]+'svg')"
   ]
  },
  {
   "cell_type": "code",
   "execution_count": null,
   "metadata": {},
   "outputs": [],
   "source": []
  }
 ],
 "metadata": {
  "kernelspec": {
   "display_name": "Python 3",
   "language": "python",
   "name": "python3"
  },
  "language_info": {
   "codemirror_mode": {
    "name": "ipython",
    "version": 3
   },
   "file_extension": ".py",
   "mimetype": "text/x-python",
   "name": "python",
   "nbconvert_exporter": "python",
   "pygments_lexer": "ipython3",
   "version": "3.11.0 (main, Oct 24 2022, 18:26:48) [MSC v.1933 64 bit (AMD64)]"
  },
  "orig_nbformat": 4,
  "vscode": {
   "interpreter": {
    "hash": "c261aea317cc0286b3b3261fbba9abdec21eaa57589985bb7a274bf54d6cc0a7"
   }
  }
 },
 "nbformat": 4,
 "nbformat_minor": 2
}
